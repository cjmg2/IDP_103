{
 "cells": [
  {
   "cell_type": "code",
   "execution_count": 1,
   "id": "90641685",
   "metadata": {},
   "outputs": [
    {
     "ename": "IndentationError",
     "evalue": "expected an indented block after function definition on line 2 (3163692727.py, line 3)",
     "output_type": "error",
     "traceback": [
      "\u001b[1;36m  Cell \u001b[1;32mIn[1], line 3\u001b[1;36m\u001b[0m\n\u001b[1;33m    self.connections = connections\u001b[0m\n\u001b[1;37m    ^\u001b[0m\n\u001b[1;31mIndentationError\u001b[0m\u001b[1;31m:\u001b[0m expected an indented block after function definition on line 2\n"
     ]
    }
   ],
   "source": [
    "class node:\n",
    "    def __init__(self, name, connections):\n",
    "    self.connections = connections\n",
    "\n",
    "\n",
    "class state:\n",
    "    def __init__(self):\n",
    "        self.state = name\n",
    "        self.age = age"
   ]
  },
  {
   "cell_type": "code",
   "execution_count": 30,
   "id": "b26d2beb",
   "metadata": {},
   "outputs": [],
   "source": [
    "connections = {\n",
    "    \"Home\": {\"Yellow\": 270, \"Green\": 90},\n",
    "    \"Yellow\": {\"Red\": 270, \"Home\": 90},\n",
    "    \"Green\": {\"Home\": 270, \"Blue\": 90},\n",
    "    \"Red\": {\"L_purple\": 180, \"Yellow\": 90},\n",
    "    \"Blue\": {\"L_orange\": 180, \"Green\": 270},\n",
    "    \"L_orange\": {\"Blue\": 0, \"Ramp\": 180},\n",
    "    \"L_purple\": {\"Red\": 0, \"Ramp\": 180},\n",
    "    \"Ramp\": {\"U_T\": 0, \"L_orange\": 90, \"L_purple\": 270},\n",
    "    \"U_T\": {\"U_orange\": 90, \"Ramp\": 180, \"U_purple\": 270}\n",
    "    }\n",
    "\n",
    "path_det = {\n",
    "    \"Home\": 5,\n",
    "    \"Yellow\": 6,\n",
    "    \"Green\": 4,\n",
    "    \"Red\": 7,\n",
    "    \"Blue\": 3,\n",
    "    \"L_purple\": 8,\n",
    "    \"L_orange\": 2,\n",
    "    \"Ramp\": None\n",
    "}\n",
    "\n",
    "def mini_path_find(start, dest, min_max):\n",
    "    queue = [start]\n",
    "    while start != dest:\n",
    "        branches = list(connections[start].keys())\n",
    "        if min_max == \"min\":\n",
    "            start = min(branches, key = lambda branches: path_det[branches])\n",
    "        elif min_max == \"max\":\n",
    "            start = max(branches, key = lambda branches: path_det[branches])\n",
    "            \n",
    "        queue.append(start)\n",
    "    return queue\n",
    "\n",
    "def path_find(start, dest):\n",
    "    if dest == \"L_orange\":\n",
    "        return mini_path_find(start, dest, \"min\")\n",
    "    elif dest == \"L_purple\":\n",
    "        return mini_path_find(start, dest, \"max\")\n",
    "    elif dest == \"U_purple\" or dest == \"U_orange\":\n",
    "        if start == \"Red\" or start == \"Yellow\":\n",
    "            queue = mini_path_find(start, \"L_purple\", \"max\")\n",
    "        elif start == \"Green\" or start == \"Blue\":\n",
    "            queue = mini_path_find(start, \"L_orange\", \"min\")\n",
    "        else:\n",
    "            raise Exception(\"error 2, elifs ran out\")\n",
    "        queue.append(\"Ramp\")\n",
    "        queue.append(\"U_T\")\n",
    "        queue.append(dest)\n",
    "        return queue\n",
    "        \n",
    "    else:\n",
    "        raise Exception(\"error 1, elifs ran out\")\n",
    "    \n",
    "    "
   ]
  },
  {
   "cell_type": "code",
   "execution_count": 36,
   "id": "030d302f",
   "metadata": {},
   "outputs": [
    {
     "name": "stdout",
     "output_type": "stream",
     "text": [
      "['Red', 'Yellow', 'Home', 'Green', 'Blue', 'L_orange']\n"
     ]
    }
   ],
   "source": [
    "print(path_find(\"Red\", \"L_orange\"))"
   ]
  },
  {
   "cell_type": "code",
   "execution_count": null,
   "id": "1ef415b6",
   "metadata": {},
   "outputs": [],
   "source": [
    "class state:\n",
    "    def __init__(self, loc, orien):\n",
    "        self.loc = loc\n",
    "        self.orien = orien\n",
    "    "
   ]
  },
  {
   "cell_type": "code",
   "execution_count": null,
   "id": "3016afd8",
   "metadata": {},
   "outputs": [
    {
     "name": "stdout",
     "output_type": "stream",
     "text": [
      "Red\n",
      "Yellow\n",
      "Home\n",
      "Green\n",
      "Blue\n",
      "L_orange\n"
     ]
    }
   ],
   "source": [
    "def fwd_until_junc():\n",
    "    pass\n",
    "\n",
    "def clockwise():\n",
    "    pass\n",
    "\n",
    "def anticlockwise():\n",
    "    pass\n",
    "\n",
    "start = \"Red\"\n",
    "dest = \"L_orange\"\n",
    "\n",
    "route = path_find(start, dest)\n",
    "while route:\n",
    "\n",
    "    current_node = route.pop(0)\n",
    "    print(next)\n",
    "\n",
    "\n",
    "\n",
    "\n"
   ]
  },
  {
   "cell_type": "code",
   "execution_count": 1,
   "id": "b1224944",
   "metadata": {},
   "outputs": [
    {
     "name": "stdout",
     "output_type": "stream",
     "text": [
      "0\n",
      "1\n",
      "2\n",
      "3\n"
     ]
    },
    {
     "ename": "Exception",
     "evalue": "STOP",
     "output_type": "error",
     "traceback": [
      "\u001b[31m---------------------------------------------------------------------------\u001b[39m",
      "\u001b[31mException\u001b[39m                                 Traceback (most recent call last)",
      "\u001b[36mCell\u001b[39m\u001b[36m \u001b[39m\u001b[32mIn[1]\u001b[39m\u001b[32m, line 4\u001b[39m\n\u001b[32m      2\u001b[39m \u001b[38;5;28mprint\u001b[39m(i)\n\u001b[32m      3\u001b[39m \u001b[38;5;28;01mif\u001b[39;00m i == \u001b[32m3\u001b[39m:\n\u001b[32m----> \u001b[39m\u001b[32m4\u001b[39m     \u001b[38;5;28;01mraise\u001b[39;00m \u001b[38;5;167;01mException\u001b[39;00m(\u001b[33m\"\u001b[39m\u001b[33mSTOP\u001b[39m\u001b[33m\"\u001b[39m)\n",
      "\u001b[31mException\u001b[39m: STOP"
     ]
    }
   ],
   "source": [
    "for i in range(10):\n",
    "    print(i)\n",
    "    if i == 3:\n",
    "        raise Exception(\"STOP\")"
   ]
  }
 ],
 "metadata": {
  "kernelspec": {
   "display_name": "Python 3",
   "language": "python",
   "name": "python3"
  },
  "language_info": {
   "codemirror_mode": {
    "name": "ipython",
    "version": 3
   },
   "file_extension": ".py",
   "mimetype": "text/x-python",
   "name": "python",
   "nbconvert_exporter": "python",
   "pygments_lexer": "ipython3",
   "version": "3.13.1"
  }
 },
 "nbformat": 4,
 "nbformat_minor": 5
}
