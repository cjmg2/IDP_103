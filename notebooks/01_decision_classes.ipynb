{
 "cells": [
  {
   "cell_type": "code",
   "execution_count": null,
   "id": "90641685",
   "metadata": {},
   "outputs": [],
   "source": [
    "class node:\n",
    "    def __init__(self, name, connections):\n",
    "    self.connections = connections\n",
    "\n",
    "\n",
    "class state:\n",
    "    def __init__(self):\n",
    "        self.state = name\n",
    "        self.age = age"
   ]
  },
  {
   "cell_type": "code",
   "execution_count": null,
   "id": "b26d2beb",
   "metadata": {},
   "outputs": [],
   "source": [
    "connections = {\n",
    "    \"Home\": {\"Yellow\": 270, \"Green\": 90},\n",
    "    \"Yellow\": {\"Red\": 270, \"Home\": 90},\n",
    "    \"Green\": {\"Home\": 270, \"Blue\": 90},\n",
    "    \"Red\": {\"L_purple\": 180, \"Yellow\": 90},\n",
    "    \"Blue\": {\"L_orange\": 180, \"Green\": 270},\n",
    "    \"L_orange\": {\"Blue\": 0, \"Ramp\": 180},\n",
    "    \"L_purple\": {\"Red\": 0, \"Ramp\": 180},\n",
    "    \"Ramp\": {\"U_T\": 0, \"L_orange\": 90, \"L_purple\": 270},\n",
    "    \"U_T\": {\"U_orange\": 90, \"Ramp\": 180, \"U_purple\": 270}\n",
    "    }\n",
    "\n",
    "path_det = {\n",
    "    \"Home\": 5,\n",
    "    \"Yellow\": 6,\n",
    "    \"Green\": 4,\n",
    "    \"Red\": 7,\n",
    "    \"Blue\": 3,\n",
    "    \"L_purple\": 8,\n",
    "    \"L_orange\": 2,\n",
    "    \"Ramp\": None\n",
    "}\n",
    "\n",
    "def mini_path_find(start, dest, min_max):\n",
    "    queue = []\n",
    "    while start != dest:\n",
    "        branches = list(connections[start].keys())\n",
    "        for i in branches:\n",
    "            if min_max == \"min\":\n",
    "                start = min(branches, key = lambda branches: path_det[branches])\n",
    "            elif min_max == \"max\":\n",
    "                start = max(branches, key = lambda branches: path_det[branches])\n",
    "            queue.append(start)\n",
    "    return queue\n",
    "\n",
    "def path_find(start, dest):\n",
    "    \n",
    "    \n",
    "    if dest == \"L_orange\":\n",
    "        return mini_path_find(start, dest, \"min\")\n",
    "    elif dest == \"L_purple\":\n",
    "        return mini_path_find(start, dest, \"max\")\n",
    "    elif dest == \"U_purple\" or dest == \"U_orange\":\n",
    "        intermediate_find = \"Ramp\"\n",
    "    else:\n",
    "        intermediate_find = dest\n",
    "    \n",
    "    "
   ]
  }
 ],
 "metadata": {
  "kernelspec": {
   "display_name": "base",
   "language": "python",
   "name": "python3"
  },
  "language_info": {
   "name": "python",
   "version": "3.12.7"
  }
 },
 "nbformat": 4,
 "nbformat_minor": 5
}
