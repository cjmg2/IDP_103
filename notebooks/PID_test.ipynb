{
 "cells": [
  {
   "cell_type": "code",
   "execution_count": 1,
   "id": "10db61cb",
   "metadata": {},
   "outputs": [
    {
     "name": "stdout",
     "output_type": "stream",
     "text": [
      "[-2, -1, 0, 0]\n"
     ]
    }
   ],
   "source": [
    "def weighted(measurement):\n",
    "    return [measurement[0] * -2, measurement[1] * -1, measurement[2] * 1, measurement[3] * 2]\n",
    "\n",
    "mm = [1, 1, 0, 0]\n",
    "\n",
    "print(weighted(mm))"
   ]
  },
  {
   "cell_type": "code",
   "execution_count": null,
   "id": "f312d8fe",
   "metadata": {},
   "outputs": [],
   "source": [
    "from PartIB-Integrated-Design-Project.sw.test_motor.py import Motor\n",
    "\n",
    "control = 1\n",
    "\n",
    "if control < 0\n",
    "elif control > 0\n",
    "else:   \n"
   ]
  }
 ],
 "metadata": {
  "kernelspec": {
   "display_name": "Python 3",
   "language": "python",
   "name": "python3"
  },
  "language_info": {
   "codemirror_mode": {
    "name": "ipython",
    "version": 3
   },
   "file_extension": ".py",
   "mimetype": "text/x-python",
   "name": "python",
   "nbconvert_exporter": "python",
   "pygments_lexer": "ipython3",
   "version": "3.13.1"
  }
 },
 "nbformat": 4,
 "nbformat_minor": 5
}
