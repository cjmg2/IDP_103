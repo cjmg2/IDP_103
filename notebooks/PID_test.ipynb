{
 "cells": [
  {
   "cell_type": "code",
   "execution_count": null,
   "id": "ec12a6b9",
   "metadata": {},
   "outputs": [
    {
     "name": "stdout",
     "output_type": "stream",
     "text": [
      "-3\n"
     ]
    }
   ],
   "source": [
    "def weighted(measurement):\n",
    "    #gives appropriate weights to sensor values\n",
    "    return [measurement[0] * -2, measurement[1] * -1, measurement[2] * 1, measurement[3] * 2]\n",
    "\n",
    "def errorcalc(weighted_measurement):\n",
    "    #calculates error from line\n",
    "    \n",
    "    temp = 0\n",
    "    \n",
    "    #setpoint is [0, 0, 0, 0] hence values are just added\n",
    "    for value in weighted_measurement:\n",
    "        temp += value\n",
    "    return temp\n",
    "\n",
    "mm = [1, 1, 0, 0]\n",
    "wm = weighted(mm)\n",
    "\n",
    "print(errorcalc(wm))"
   ]
  },
  {
   "cell_type": "code",
   "execution_count": null,
   "id": "f312d8fe",
   "metadata": {},
   "outputs": [
    {
     "ename": "ModuleNotFoundError",
     "evalue": "No module named 'machine'",
     "output_type": "error",
     "traceback": [
      "\u001b[31m---------------------------------------------------------------------------\u001b[39m",
      "\u001b[31mModuleNotFoundError\u001b[39m                       Traceback (most recent call last)",
      "\u001b[36mCell\u001b[39m\u001b[36m \u001b[39m\u001b[32mIn[5]\u001b[39m\u001b[32m, line 1\u001b[39m\n\u001b[32m----> \u001b[39m\u001b[32m1\u001b[39m \u001b[38;5;28;01mfrom\u001b[39;00m\u001b[38;5;250m \u001b[39m\u001b[34;01mmachine\u001b[39;00m\u001b[38;5;250m \u001b[39m\u001b[38;5;28;01mimport\u001b[39;00m Pin, PWM\n\u001b[32m      2\u001b[39m \u001b[38;5;28;01mfrom\u001b[39;00m\u001b[38;5;250m \u001b[39m\u001b[34;01mutime\u001b[39;00m\u001b[38;5;250m \u001b[39m\u001b[38;5;28;01mimport\u001b[39;00m sleep\n\u001b[32m      5\u001b[39m \u001b[38;5;28;01mclass\u001b[39;00m\u001b[38;5;250m \u001b[39m\u001b[34;01mMotor\u001b[39;00m:\n",
      "\u001b[31mModuleNotFoundError\u001b[39m: No module named 'machine'"
     ]
    }
   ],
   "source": [
    "#understanding motor class/basic control\n",
    "\n",
    "class Motor:\n",
    "    def __init__(self, dirPin, PWMPin):\n",
    "        self.mDir = Pin(dirPin, Pin.OUT)  # set motor direction pin\n",
    "        self.pwm = PWM(Pin(PWMPin))  # set motor pwm pin\n",
    "        self.pwm.freq(1000)  # set PWM frequency\n",
    "        self.pwm.duty_u16(0)  # set duty cycle - 0=off\n",
    "        \n",
    "    def off(self):\n",
    "        self.pwm.duty_u16(0)\n",
    "        \n",
    "    def Forward(self, speed=100):\n",
    "        self.mDir.value(0)                     # forward = 0 reverse = 1 motor\n",
    "        self.pwm.duty_u16(int(65535 * speed / 100))  # speed range 0-100 motor\n",
    "\n",
    "    def Reverse(self, speed=30):\n",
    "        self.mDir.value(1)\n",
    "        self.pwm.duty_u16(int(65535 * speed / 100))\n",
    "\n",
    "control = 1\n",
    "\n",
    "rmotor = Motor(4, 5)\n",
    "lmotor = Motor(6, 7)\n",
    "\n",
    "if control < 0:\n",
    "    lmotor.Forward\n",
    "    rmotor.off\n",
    "\n",
    "elif control > 0:\n",
    "    lmotor.off\n",
    "    rmotor.Forward\n",
    "\n",
    "else:\n",
    "    rmotor.Forward\n",
    "    lmotor.Forward\n"
   ]
  }
 ],
 "metadata": {
  "kernelspec": {
   "display_name": "Python 3",
   "language": "python",
   "name": "python3"
  },
  "language_info": {
   "codemirror_mode": {
    "name": "ipython",
    "version": 3
   },
   "file_extension": ".py",
   "mimetype": "text/x-python",
   "name": "python",
   "nbconvert_exporter": "python",
   "pygments_lexer": "ipython3",
   "version": "3.13.1"
  }
 },
 "nbformat": 4,
 "nbformat_minor": 5
}
